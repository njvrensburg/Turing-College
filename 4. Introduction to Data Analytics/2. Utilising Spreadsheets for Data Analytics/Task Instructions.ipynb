{
  "nbformat": 4,
  "nbformat_minor": 0,
  "metadata": {
    "colab": {
      "name": "DA_1_2_5.ipynb",
      "provenance": [],
      "collapsed_sections": []
    },
    "kernelspec": {
      "name": "python3",
      "display_name": "Python 3"
    },
    "language_info": {
      "name": "python"
    }
  },
  "cells": [
    {
      "cell_type": "markdown",
      "source": [
        "# Module 1: Introduction to Data Analytics\n",
        "## Sprint 2: Utilising Spreadsheets for Data Analytics\n",
        "## Part 5: Spreadsheets Practical Project\n",
        "\n",
        "## New additions to the project review process\n",
        "\n",
        "This is your second practical project which will require reviewing. A new thing introduced in this project is that it will require 2 corrections — at least one by an STL and the second one potentially by a peer learner.\n",
        "\n",
        "Peer reviews have a much smaller weight compared to STLs when calculating the final score of a project (the passing score is 70% or more) — so as a learner you should not worry about being extremely objective.\n",
        "\n",
        "When booking a peer correction, you might get an STL if there are no learners available. This will result in both corrections being performed by an STL. However, the same STL cannot perform both corrections.\n",
        "\n",
        "To become available to review others yourself, you should click on the \"My Availability\" button in the top left corner of the Turing platform. By doing these corrections, you will receive correction points which you will need to receive further peer corrections yourself. Correction points are used every time you book a peer review. You should set your availability once you complete this project, as you will then be able to start reviewing other learners who still need to complete this project.\n",
        "\n",
        "A learner can get a correction for a project when they are more than halfway through that sprint.\n",
        "- This simulates a common situation that most learners will eventually encounter at work — having to do reviews for colleagues that are more experienced than them. Such reviews at Turing College are useful because the reviewer gets to practice evaluating and efficiently communicating with a team member when they are not fully experienced in the topic themselves just yet. On the other hand, the learner who is being reviewed gets to practice communicating in a way that is understandable and convincing to people with less technical knowledge, which is also a situation that will become ever more common as a specialist progresses in their career.\n",
        "- As a reviewer, you should let the other learner know at the start of the correction that you have not completed the project yet. The presenting learner should then adapt their communication based on this – e.g., regularly confirm that they are being understood and that they are explaining things clearly at an appropriate level of depth. \n",
        "- The scores a reviewer assigns in these corrections should be based on how clearly the other learner explains what they have done, considering the knowledge level of the reviewer. If the explanations are so technical that the reviewer feels completely overwhelmed, it means that the technical depth was not chosen well enough and a lower score should be given. In an ideal case where maximum score is given, the reviewer should feel convinced that what the other learner has done is correct, understand roughly how and why the result was reached and even learn something new themselves. \n",
        "\n",
        "<br>\n",
        "\n",
        "## Graded task\n",
        "\n",
        "You can find the task [here](https://docs.google.com/spreadsheets/d/1mbFK5Lnss_FOq6k7QDS3dQ85cgm3ezFDg8MwyaLt5oA/edit?usp=sharing)\n",
        "\n",
        "<br>\n",
        "\n",
        "## Submission\n",
        "\n",
        "To submit the project and allow the reviewer to view your work beforehand, go to your GitHub repository by clicking on the GitHub icon above. Next, select \"Add File\"->\"Upload Files\". Select all the files relevant for your project and click \"Commit Changes\". \n",
        "\n",
        "NOTE: after you submit your project, you will lose write access to this GitHub repository! Make sure you have uploaded all your work!\n",
        "\n",
        "You are allowed and even encouraged to use the feedback you get to make changes after the first correction in your local files. Share those changes with the reviewer during your second correction, explaining why you made them.\n",
        "\n",
        "Read more about project reviews [here](https://turingcollege.atlassian.net/wiki/spaces/DLG/pages/537395951/Peer+expert+reviews+corrections).\n",
        "\n",
        "<br>\n",
        "\n",
        "## Accessing the next notebook:\n",
        "After you schedule your project reviews, you can already start working on the next part from the upcoming sprint. To access it, go to https://github.com/TuringCollegeSubmissions/DA.1.3.1. If you need access to additional parts of the next sprint, contact Giedrius Zebrauskas via Discord. Once the project review is completed, you will see this content in the Turing platform normally."
      ],
      "metadata": {
        "id": "EIgRSF-6O_W9"
      }
    }
  ]
}
