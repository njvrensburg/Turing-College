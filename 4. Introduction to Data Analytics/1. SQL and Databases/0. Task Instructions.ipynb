{
 "cells": [
  {
   "cell_type": "markdown",
   "id": "gentle-easter",
   "metadata": {
    "id": "gentle-easter"
   },
   "source": [
    "# Module 1: Introduction to Data Analytics\n",
    "## Sprint 3: SQL and Databases\n",
    "## Part 6: SQL Graded task"
   ]
  },
  {
   "cell_type": "markdown",
   "id": "bound-recognition",
   "metadata": {
    "id": "bound-recognition"
   },
   "source": [
    "**In this graded task you will be asked to create queries to solve specific business questions.**\n",
    "\n",
    "\n",
    "You will have to explore [Adventureworks 2005 database](https://i0.wp.com/improveandrepeat.com/wp-content/uploads/2018/12/AdvWorksOLTPSchemaVisio.png?ssl=1), identify the needed data and the correct way to get it/merge it together with other tables within this database.\n",
    "\n",
    "The database can be accessed [here](https://console.cloud.google.com/bigquery?authuser=1&project=tc-da-1&d=adwentureworks_db&p=tc-da-1) using the BigQuery account provided to you by Turing College via email. \n",
    "\n",
    "Some common troubleshooting tips if you cannot access the database or your account:\n",
    "- Make sure you are using the Turing College provided account. Even if you logged in with it before, double check the top-right corner user icon by clicking on it and seeing what user is being used. Permissions of multiple accounts someetimes cause issues, so you can try an incognito browser window.\n",
    "- The Turing College provided account is in the format \"username@turingcollege.com\". The password is sent via email\n",
    "- The password in the email is only viable for one-time use. Once logged in, you will be asked to enter a new password. Please remember it, as learners are not able to reset passwords afterwards themselves. In case of losing your password, contact Giedrius Zebrauskas via Discord.\n",
    "- If none of these work and you still cannot see the database needed, contact Giedrius Zebrauskas via Discord. \n",
    "\n",
    "<br>\n",
    "\n",
    "**Tips:**\n",
    "* Use  schema for guidance when exploring tables and pay attention to the primary & foreign key when writing joins.\n",
    "* If the query is running slower during reruns, limit the scope of output while writing & experimenting. After the query is done then increase the scope to the intended one.\n",
    "* Use Google to find functions and solutions you may need to solve these tasks, experimentation & curiosity is key in succeeding as a junior data analyst.\n",
    "\n",
    "\n",
    "**There is no one right way to get the correct result.**\n"
   ]
  },
  {
   "cell_type": "markdown",
   "id": "yOc4TcCFXS6S",
   "metadata": {
    "id": "yOc4TcCFXS6S"
   },
   "source": [
    "**To complete this task you need to create a results Google spreadsheet.**\n",
    "- For each section of task you are required to copy your query result in one sheet and the written query in another sheet.\n",
    "- For example, when you solve 1.1, add sheet “1.1 result” and “1.1 query” and so forth. \n",
    "- If you are not able to get the right result, copy in your effort/ideas, we take into account effort.\n",
    "- During the correction, have the BigQuery GCP open, as you may be asked to run your queries and/or show data validation using BigQuery.\n"
   ]
  },
  {
   "cell_type": "markdown",
   "id": "ready-century",
   "metadata": {
    "id": "ready-century"
   },
   "source": [
    "## Tasks\n",
    "\n",
    "**1.1** You’ve been tasked to create a detailed overview of all individual customers (these are defined by customerType = ‘I’ and/or stored in an individual table).\n",
    "Write a query that provides:\n",
    "\n",
    "* CustomerId, Firstname, Last Name, FullName (First Name & Last Name)\n",
    "* An Extra column called addressing_title i.e. (Mr. Achong), if the title is missing - Dear Achong.\n",
    "* Email, phone, account number, CustomerType\n",
    "* City, State & Country, address \n",
    "* Sales: number of orders, total amount of purchases (including Tax), date of the last order\n",
    "\n",
    "\n",
    "Copy only the top 200 rows from your written select ordered by total amount of purchases.\n",
    "\n",
    "* Result Hint:\n",
    " <div><img src=\" https://i.imgur.com/7Glv6Yx.png\"/></div>\n",
    "\n",
    "<br>\n",
    "\n",
    "**1.2** Business finds the original query valuable to analyze customers and now want to get the data from the first query for the top 200 customers with the highest total amount of purchases who have not ordered for the last 365 days. How would you identify this segment?\n",
    "\n",
    "\n",
    "Hints:\n",
    "* You can use temp table, cte and/or subquery of the 1.1 select.\n",
    "* Note that the database is old and the current date should be defined by finding the latest order date in the orders table.\n",
    "\n",
    "<br>\n",
    "\n",
    "**1.3**  Enrich your original 1.1 SELECT by creating a new column in the view that marks active & inactive customers based on whether they have ordered anything during the last 365 days. \n",
    "\n",
    "Copy only the top 500 rows from your written select ordered by CustomerId desc.\n",
    "\n",
    "\n",
    "<br>\n",
    "\n",
    "**1.4** Business would like to extract data on all active customers from  North America.  Only customers that have either ordered 2500 in total amount purchases (w Tax) or ordered 5 + times should be presented.\n",
    "\n",
    "In the output for these customers divide their address line into two columns:\n",
    "\n",
    "\n",
    "| AddressLine1         | address_no | Address_st    |\n",
    "|----------------------|------------|---------------|\n",
    "| '8603 Elmhurst Lane' | 8603       | Elmhurst Lane |\n",
    "\n",
    "Order the output by country, state and date_last_order.\n"
   ]
  },
  {
   "cell_type": "markdown",
   "id": "sexual-lucas",
   "metadata": {
    "id": "sexual-lucas"
   },
   "source": [
    "**2. Reporting Sales’ numbers**\n",
    "\n",
    "- **Main tables to start from:** salesorderheader.\n",
    "\n",
    "\n",
    "**2.1** Create a query of monthly sales numbers in each Country & region. Include in the query a number of orders, customers and sales persons in each month with a total amount with tax earned. Sales numbers from all types of customers are required.\n",
    "\n",
    "* Result Hint:\n",
    "<div><img src=\"https://i.imgur.com/J69Y2cP.png\"/></div>\n",
    "\n",
    "\n",
    "**2.2** Enrich 2.1 query with the  cumulative_sum of the total amount with tax earned per country & region.\n",
    "\n",
    "* Hint: use CTE or subquery.\n",
    "\n",
    "* Result Hint:\n",
    "<div><img src=\"https://i.imgur.com/wfljBpY.png\" /></div>\n",
    "\n",
    "**2.3**  Enrich 2.2 query by adding ‘sales_rank’ column that ranks rows from best to worst  for each country based on total amount with tax earned each month. I.e. the month where the (US, Southwest) region made the highest total amount with tax earned will be ranked 1 for that region and vice versa. \n",
    "\n",
    "* Result Hint:\n",
    "<div><img src=\"https://i.imgur.com/ZFIFfjH.png\" /></div>\n",
    "\n",
    "**2.4** Enrich 2.3 query by adding taxes on a country level:\n",
    "- As taxes can vary in country based on province, the needed column is ‘**mean_tax_rate**’ -> average tax rate in a country.\n",
    "- Also, as not all regions have data on taxes, you also want to be transparent and show the **‘perc_provinces_w_tax’** -> a column representing the percentage of provinces with available tax rates for each country (i.e. If US has 53 provinces, and 10 of them have tax rates, then for US it should show 0,19)\n",
    "\n",
    "\n",
    "* Result Hint:\n",
    " <div><img src=\"https://i.imgur.com/WiUtAQX.png\" /></div>\n"
   ]
  },
  {
   "cell_type": "markdown",
   "id": "V5sBXOkJKU2M",
   "metadata": {
    "id": "V5sBXOkJKU2M"
   },
   "source": [
    "<br>\n",
    "\n",
    "## Evaluation criteria for a Graded project submission:\n",
    "\n",
    "1. Effort & creativity in searching for suitable solutions.\n",
    "2. Code formatting & readability.\n",
    "3. Ability to explain logic behind code, validate results.\n",
    "4. Your general understanding of SQL\n",
    "\n",
    "During a task review, you may get asked questions that test your understanding of covered topics.\n",
    "\n",
    "**Sample questions**:\n",
    "* What were your first steps when compiling this query?\n",
    "* Did you join on foreign/primary keys in used tables? \n",
    "* Why did you use this logic, could you have done this task using a different type of logic?\n",
    "* Did you validate the results of this query? How? Can you imagine a case where your query becomes flawed/gives an error (i.e. one of tables receives bad data)\n"
   ]
  },
  {
   "cell_type": "markdown",
   "id": "eETf52jzz-S6",
   "metadata": {
    "id": "eETf52jzz-S6"
   },
   "source": [
    "## Submission\n",
    "\n",
    "To submit the project and allow the reviewer to view your work beforehand, go to your GitHub repository by clicking on the GitHub icon above. Next, select \"Add File\"->\"Upload Files\". Select all the files relevant for your project and click \"Commit Changes\". **You are expected to upload your solution immediately upon scheduling a review**. A reviewer, if they see an empty repository with no solution, is allowed to cancel the review. \n",
    "\n",
    "After your first project review, you are encouraged to use the feedback received to make changes and improve your project. If you make the changes very close to the time of the second review, inform the reviewer at the start of the call that you have made some changes. Reviewers usually check your work in advance and might have only seen a previous version. To avoid this, you can schedule your two reviews with some time in-between and make the updates as early as possible.\n",
    "\n",
    "Read more about project reviews [here](https://turingcollege.atlassian.net/wiki/spaces/DLG/pages/537395951/Peer+expert+reviews+corrections)."
   ]
  },
  {
   "cell_type": "markdown",
   "id": "T7eVWBgY2Xyq",
   "metadata": {
    "id": "T7eVWBgY2Xyq"
   },
   "source": [
    "## Extra material\n",
    "\n",
    "We hope this sprint has given you good starting knowledge for practicing SQL craft. We expect you will continue to improve your SQL skills throughout the whole Data Analytics course, as many future projects will require using it. Remember, practice is key. \n",
    "\n",
    "To help you keep learning, here are some extra material for you to check during your spare time between other sprints & modules.\n",
    "\n",
    "* [Databases 101: SQL vs. NoSQL: Which Fits Your Data Better?](https://towardsdatascience.com/databases-101-sql-vs-nosql-which-fits-your-data-better-45e744981351)\n",
    "* [SQL vs. NoSQL Databases: What's the Difference?](https://www.ibm.com/cloud/blog/sql-vs-nosql)\n",
    "* [Google BigQuery: The Definitive Guide](https://www.oreilly.com/library/view/google-bigquery-the/9781492044451/)\n",
    "\n",
    "\n",
    "\n",
    "* [Learning SQL, 3rd Edition](https://www.oreilly.com/library/view/learning-sql-3rd/9781492057604/):\n",
    "\n",
    " a) [Chapter 17. Working with Large Databases](https://learning.oreilly.com/library/view/learning-sql-3rd/9781492057604/ch17.html)\n",
    " \n",
    " b) [Chapter 18. SQL and Big Data](https://learning.oreilly.com/library/view/learning-sql-3rd/9781492057604/ch18.html)\n",
    "\n",
    "\n",
    "\n",
    "* [Databases:](https://app.codesignal.com/arcade/db)\n",
    "\n",
    "    a) Regular Paradise (36-37)\n",
    "    \n",
    "    b) Time River Revisited (38-42)\n",
    "\n",
    "Also, If you stumble upon interesting and/or good SQL material online, do not hesitate to share it with your peers and team leads either in Discord or during stand-ups.\n",
    "\n",
    "Keep practicing and stay curious!"
   ]
  },
  {
   "cell_type": "markdown",
   "id": "UM8wPjeyUFqF",
   "metadata": {
    "id": "UM8wPjeyUFqF"
   },
   "source": [
    "<br>\n",
    "\n",
    "## Accessing the next notebook:\n",
    "After you schedule your project reviews, you can already start working on the next part from the upcoming sprint. Contact Giedrius Zebrauskas via Discord to receive it (unfortunately, the system cannot currently give early access to notebooks from different modules). Once the project review is completed, you will see this content in the Turing platform normally."
   ]
  }
 ],
 "metadata": {
  "colab": {
   "collapsed_sections": [],
   "name": "DA_1_3_6.ipynb",
   "provenance": []
  },
  "kernelspec": {
   "display_name": "Python 3",
   "language": "python",
   "name": "python3"
  },
  "language_info": {
   "codemirror_mode": {
    "name": "ipython",
    "version": 3
   },
   "file_extension": ".py",
   "mimetype": "text/x-python",
   "name": "python",
   "nbconvert_exporter": "python",
   "pygments_lexer": "ipython3",
   "version": "3.7.10"
  },
  "toc": {
   "base_numbering": 1,
   "nav_menu": {},
   "number_sections": true,
   "sideBar": true,
   "skip_h1_title": false,
   "title_cell": "Table of Contents",
   "title_sidebar": "Contents",
   "toc_cell": false,
   "toc_position": {},
   "toc_section_display": true,
   "toc_window_display": false
  }
 },
 "nbformat": 4,
 "nbformat_minor": 5
}
